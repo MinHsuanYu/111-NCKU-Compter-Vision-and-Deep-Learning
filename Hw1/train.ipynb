{
 "cells": [
  {
   "cell_type": "code",
   "execution_count": 15,
   "metadata": {},
   "outputs": [],
   "source": [
    "import numpy as np\n",
    "import matplotlib.pyplot as plt\n",
    "\n",
    "import torch\n",
    "import torch.nn as nn\n",
    "import torch.nn.functional as F\n",
    "import torch.optim as optim\n",
    "import torchvision\n",
    "import torchvision.transforms as transforms\n",
    "from torchvision import models\n",
    "from torchsummary import summary"
   ]
  },
  {
   "cell_type": "code",
   "execution_count": 16,
   "metadata": {},
   "outputs": [],
   "source": [
    "model = torch.load('model.pt')\n",
    "model = model.cuda()\n",
    "transform = transforms.Compose([transforms.ToTensor(), transforms.Normalize((0.5, 0.5, 0.5), (0.5, 0.5, 0.5))])\n",
    "#summary(model, (3,32,32))"
   ]
  },
  {
   "cell_type": "code",
   "execution_count": 12,
   "metadata": {},
   "outputs": [
    {
     "name": "stdout",
     "output_type": "stream",
     "text": [
      "Files already downloaded and verified\n",
      "Files already downloaded and verified\n"
     ]
    }
   ],
   "source": [
    "trainset = torchvision.datasets.CIFAR10(root='./data', train=True, download=True, transform=transform)\n",
    "testset = torchvision.datasets.CIFAR10(root='./data', train=False, download=True, transform=transform)\n",
    "trainLoader = torch.utils.data.DataLoader(trainset, batch_size=128, shuffle=True)\n",
    "testLoader = torch.utils.data.DataLoader(testset, batch_size=128, shuffle=False)"
   ]
  },
  {
   "cell_type": "code",
   "execution_count": 13,
   "metadata": {},
   "outputs": [],
   "source": [
    "criterion = nn.CrossEntropyLoss()\n",
    "lr = 0.01\n",
    "epochs = 50\n",
    "opt = optim.SGD(model.parameters(), lr = lr, momentum=0.9)"
   ]
  },
  {
   "cell_type": "code",
   "execution_count": 14,
   "metadata": {},
   "outputs": [
    {
     "name": "stdout",
     "output_type": "stream",
     "text": [
      "Accuracy: 0.6615833333333333/0.6913666666666667, Loss: 0.7494809774780273\n",
      "epoch: 1 complete!\n",
      "Accuracy: 0.7099166666666666/0.7578666666666667, Loss: 0.4001235502147675\n",
      "epoch: 2 complete!\n",
      "Accuracy: 0.7185/0.7845, Loss: 0.2639212002658844\n",
      "epoch: 3 complete!\n",
      "Accuracy: 0.7315833333333334/0.8075833333333333, Loss: 0.17155680057525635\n",
      "epoch: 4 complete!\n",
      "Accuracy: 0.7266666666666667/0.80885, Loss: 0.12945562600135804\n",
      "epoch: 5 complete!\n",
      "Accuracy: 0.727/0.8082333333333334, Loss: 0.09301427054643631\n",
      "epoch: 6 complete!\n",
      "Accuracy: 0.7314166666666667/0.8191166666666667, Loss: 0.08327081694364548\n",
      "epoch: 7 complete!\n",
      "Accuracy: 0.7336666666666667/0.81935, Loss: 0.062088013920783995\n",
      "epoch: 8 complete!\n",
      "Accuracy: 0.7293333333333333/0.8203666666666667, Loss: 0.05386676164805889\n",
      "epoch: 9 complete!\n",
      "Accuracy: 0.7280833333333333/0.82265, Loss: 0.041678454838097095\n",
      "epoch: 10 complete!\n",
      "Accuracy: 0.7368333333333333/0.8275166666666667, Loss: 0.04123160070925951\n",
      "epoch: 11 complete!\n",
      "Accuracy: 0.7320833333333333/0.8265166666666667, Loss: 0.030447227983176707\n",
      "epoch: 12 complete!\n",
      "Accuracy: 0.7400833333333333/0.8301333333333333, Loss: 0.0307104731336236\n",
      "epoch: 13 complete!\n",
      "Accuracy: 0.7339166666666667/0.8274833333333333, Loss: 0.029485101413577797\n",
      "epoch: 14 complete!\n",
      "Accuracy: 0.738/0.8299666666666666, Loss: 0.023247095427624882\n",
      "epoch: 15 complete!\n",
      "Accuracy: 0.7370833333333333/0.8293166666666667, Loss: 0.021697760999277234\n",
      "epoch: 16 complete!\n",
      "Accuracy: 0.7325/0.8267, Loss: 0.02041175069257617\n",
      "epoch: 17 complete!\n",
      "Accuracy: 0.73875/0.8311166666666666, Loss: 0.01708313854575157\n",
      "epoch: 18 complete!\n",
      "Accuracy: 0.7395/0.8294666666666667, Loss: 0.01897122139900923\n",
      "epoch: 19 complete!\n",
      "Accuracy: 0.7340833333333333/0.8289666666666666, Loss: 0.011994080045893788\n",
      "epoch: 20 complete!\n",
      "Accuracy: 0.7369166666666667/0.8300166666666666, Loss: 0.012550533388145269\n",
      "epoch: 21 complete!\n",
      "Accuracy: 0.733/0.8265, Loss: 0.014967348469793796\n",
      "epoch: 22 complete!\n",
      "Accuracy: 0.7409166666666667/0.8315166666666667, Loss: 0.01081592057030648\n",
      "epoch: 23 complete!\n",
      "Accuracy: 0.74325/0.8323833333333334, Loss: 0.013023589321477338\n",
      "epoch: 24 complete!\n",
      "Accuracy: 0.7351666666666666/0.82835, Loss: 0.008274412387060002\n",
      "epoch: 25 complete!\n",
      "Accuracy: 0.74375/0.8318666666666666, Loss: 0.016932678307890893\n",
      "epoch: 26 complete!\n",
      "Accuracy: 0.7468333333333333/0.8322666666666667, Loss: 0.006683810575958341\n",
      "epoch: 27 complete!\n",
      "Accuracy: 0.73025/0.8258333333333333, Loss: 0.008299311029119417\n",
      "epoch: 28 complete!\n",
      "Accuracy: 0.7395/0.8310166666666666, Loss: 0.01041362960509956\n",
      "epoch: 29 complete!\n",
      "Accuracy: 0.7385833333333334/0.8315333333333333, Loss: 0.0063491691503115\n",
      "epoch: 30 complete!\n",
      "Accuracy: 0.7283333333333334/0.8248, Loss: 0.010128529846146702\n",
      "epoch: 31 complete!\n",
      "Accuracy: 0.7370833333333333/0.8298333333333333, Loss: 0.008541539745666087\n",
      "epoch: 32 complete!\n",
      "Accuracy: 0.7284166666666667/0.8289166666666666, Loss: 0.0057517778612859545\n",
      "epoch: 33 complete!\n",
      "Accuracy: 0.73375/0.82895, Loss: 0.01024635125159286\n",
      "epoch: 34 complete!\n",
      "Accuracy: 0.7404166666666666/0.8319333333333333, Loss: 0.0046198148752376435\n",
      "epoch: 35 complete!\n",
      "Accuracy: 0.73675/0.8291833333333334, Loss: 0.009556762260943652\n",
      "epoch: 36 complete!\n",
      "Accuracy: 0.74425/0.8326166666666667, Loss: 0.0060586113315727564\n",
      "epoch: 37 complete!\n",
      "Accuracy: 0.7416666666666667/0.8314166666666667, Loss: 0.004890671519972384\n",
      "epoch: 38 complete!\n",
      "Accuracy: 0.7450833333333333/0.8322333333333334, Loss: 0.009914559986088424\n",
      "epoch: 39 complete!\n",
      "Accuracy: 0.747/0.8331833333333334, Loss: 0.0012466868856595829\n",
      "epoch: 40 complete!\n",
      "Accuracy: 0.7453333333333333/0.8332, Loss: 0.00040052302170195616\n",
      "epoch: 41 complete!\n",
      "Accuracy: 0.74575/0.83285, Loss: 0.005180594393566717\n",
      "epoch: 42 complete!\n",
      "Accuracy: 0.743/0.8324333333333334, Loss: 0.003979285167041235\n",
      "epoch: 43 complete!\n",
      "Accuracy: 0.74025/0.83205, Loss: 0.005998120438335463\n",
      "epoch: 44 complete!\n",
      "Accuracy: 0.7370833333333333/0.8315333333333333, Loss: 0.009871471835672855\n",
      "epoch: 45 complete!\n",
      "Accuracy: 0.7459166666666667/0.83305, Loss: 0.0023411365665693303\n",
      "epoch: 46 complete!\n",
      "Accuracy: 0.7395833333333334/0.8312666666666667, Loss: 0.0038438025558332448\n",
      "epoch: 47 complete!\n",
      "Accuracy: 0.742/0.8321833333333334, Loss: 0.006049673211257905\n",
      "epoch: 48 complete!\n",
      "Accuracy: 0.7445833333333334/0.8328, Loss: 0.005684069714443758\n",
      "epoch: 49 complete!\n",
      "Accuracy: 0.7419166666666667/0.8328333333333333, Loss: 0.0023288469907222316\n",
      "epoch: 50 complete!\n"
     ]
    }
   ],
   "source": [
    "epoch_loss = []\n",
    "epoch_acc_train = []\n",
    "epoch_acc_test = []\n",
    "for epoch in range(epochs):\n",
    "    running_loss = []\n",
    "    running_acc_train = 0\n",
    "    running_acc_test = 0\n",
    "    number = 0\n",
    "    #trainning\n",
    "    for i, data in enumerate(trainLoader, 0):\n",
    "        input_imgs, labels = data\n",
    "        input_imgs, labels = input_imgs.to('cuda:0'), labels.to('cuda:0')\n",
    "        \n",
    "        opt.zero_grad()\n",
    "\n",
    "        outputs = model(input_imgs)\n",
    "        loss = criterion(outputs, labels)\n",
    "        loss.backward()\n",
    "        opt.step()\n",
    "        running_loss.append(loss.item()*labels.size(0))\n",
    "\n",
    "    #testing\n",
    "    with torch.no_grad():\n",
    "        for data in testLoader:\n",
    "            input_imgs, labels = data\n",
    "            input_imgs, labels = input_imgs.to('cuda:0'), labels.to('cuda:0')\n",
    "            outputs = model(input_imgs)\n",
    "            _, predicted = torch.max(outputs.data, 1)\n",
    "            number += labels.size(0)\n",
    "            running_acc_test += (predicted == labels).sum().item()\n",
    "        for data in trainLoader:\n",
    "            input_imgs, labels = data\n",
    "            input_imgs, labels = input_imgs.to('cuda:0'), labels.to('cuda:0')\n",
    "            outputs = model(input_imgs)\n",
    "            _, predicted = torch.max(outputs.data, 1)\n",
    "            number += labels.size(0)\n",
    "            running_acc_train += (predicted == labels).sum().item()\n",
    "\n",
    "    loss_mean = np.sum(running_loss)/50000\n",
    "    epoch_acc_test.append(5 * running_acc_test / number)\n",
    "    epoch_acc_train.append(running_acc_train / number)\n",
    "    epoch_loss.append(loss_mean)\n",
    "    print(\"Accuracy: {}/{}, Loss: {}\".format(epoch_acc_test[-1], epoch_acc_train[-1], loss_mean))\n",
    "    print(\"epoch:\", epoch+1, \"complete!\")"
   ]
  },
  {
   "cell_type": "code",
   "execution_count": 17,
   "metadata": {},
   "outputs": [],
   "source": [
    "torch.save(model, \"trained.pt\")"
   ]
  },
  {
   "cell_type": "code",
   "execution_count": 18,
   "metadata": {},
   "outputs": [
    {
     "data": {
      "image/png": "[encoded data removed]",
      "text/plain": [
       "<Figure size 432x288 with 1 Axes>"
      ]
     },
     "metadata": {
      "needs_background": "light"
     },
     "output_type": "display_data"
    }
   ],
   "source": [
    "l = np.arange(0, len(epoch_acc_train))\n",
    "plt.plot(l, epoch_acc_train, label=\"Training\")\n",
    "plt.plot(l, epoch_acc_test, label=\"Testing\")\n",
    "plt.title(\"Accuracy\")\n",
    "plt.xlabel(\"epoch\")\n",
    "plt.ylabel(\"%\")\n",
    "plt.legend()\n",
    "plt.savefig(\"Accuracy\")"
   ]
  },
  {
   "cell_type": "code",
   "execution_count": 19,
   "metadata": {},
   "outputs": [
    {
     "name": "stderr",
     "output_type": "stream",
     "text": [
      "No handles with labels found to put in legend.\n"
     ]
    },
    {
     "data": {
      "image/png": "[encoded data removed]",
      "text/plain": [
       "<Figure size 432x288 with 1 Axes>"
      ]
     },
     "metadata": {
      "needs_background": "light"
     },
     "output_type": "display_data"
    }
   ],
   "source": [
    "l = np.arange(0, len(epoch_loss))\n",
    "plt.plot(l, epoch_loss)\n",
    "plt.title(\"Training loss\")\n",
    "plt.xlabel(\"epoch\")\n",
    "plt.ylabel(\"loss\")\n",
    "plt.legend()\n",
    "plt.savefig(\"Loss\")"
   ]
  },
  {
   "cell_type": "code",
   "execution_count": 20,
   "metadata": {},
   "outputs": [],
   "source": [
    "test_acc = [0.6, 0.7, 0.8, 0.9, 0.9, 0.9, 0.9]\n",
    "test_loss = [2, 1.9, 1.5, 1.3, 1.2, 1.1, 0.5]\n"
   ]
  }
 ],
 "metadata": {
  "interpreter": {
   "hash": "7c87edf4fb075fea9992feb0d3e3e8cffedf325b7933ffe9561143fb4e2241bc"
  },
  "kernelspec": {
   "display_name": "Python 3.9.7 64-bit ('MinHsuan': conda)",
   "language": "python",
   "name": "python3"
  },
  "language_info": {
   "codemirror_mode": {
    "name": "ipython",
    "version": 3
   },
   "file_extension": ".py",
   "mimetype": "text/x-python",
   "name": "python",
   "nbconvert_exporter": "python",
   "pygments_lexer": "ipython3",
   "version": "3.9.7"
  },
  "orig_nbformat": 4
 },
 "nbformat": 4,
 "nbformat_minor": 2
}
